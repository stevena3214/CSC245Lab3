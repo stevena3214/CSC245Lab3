{
 "cells": [
  {
   "cell_type": "code",
   "execution_count": 1,
   "id": "initial_id",
   "metadata": {
    "collapsed": true,
    "ExecuteTime": {
     "end_time": "2024-03-25T00:28:59.957363800Z",
     "start_time": "2024-03-25T00:28:56.829968300Z"
    }
   },
   "outputs": [
    {
     "name": "stdout",
     "output_type": "stream",
     "text": [
      "  student_id              name marks\n",
      "0         S1  Danniella Fenton   200\n",
      "1         S2      Ryder Storey   210\n",
      "2         S3      Bryce Jensen   190\n",
      "3         S4         Ed Bernal   222\n",
      "4         S5       Kwame Morin   199\n",
      "0         S1  Scarlette Fisher   201\n",
      "1         S2  Carla Williamson   200\n",
      "2         S3       Dante Morse   198\n",
      "3         S4    Kaiser William   219\n",
      "4         S5   Madeeha Preston   201\n"
     ]
    },
    {
     "name": "stderr",
     "output_type": "stream",
     "text": [
      "C:\\Users\\USER\\AppData\\Local\\Temp\\ipykernel_5392\\1417167797.py:2: DeprecationWarning: \n",
      "Pyarrow will become a required dependency of pandas in the next major release of pandas (pandas 3.0),\n",
      "(to allow more performant data types, such as the Arrow string type, and better interoperability with other libraries)\n",
      "but was not found to be installed on your system.\n",
      "If this would cause problems for you,\n",
      "please provide us feedback at https://github.com/pandas-dev/pandas/issues/54466\n",
      "        \n",
      "  import pandas as pd\n"
     ]
    }
   ],
   "source": [
    "import numpy as np\n",
    "import pandas as pd\n",
    "df1 = pd.DataFrame({'student_id': ['S1', 'S2', 'S3', 'S4', 'S5'],\n",
    "                    'name': ['Danniella Fenton', 'Ryder Storey', 'Bryce Jensen', 'Ed Bernal', 'Kwame Morin'],\n",
    "                    'marks': ['200', '210', '190', '222', '199']},\n",
    "                   index=[0, 1, 2, 3,4])\n",
    "\n",
    "df2 = pd.DataFrame({'student_id': ['S1', 'S2', 'S3', 'S4', 'S5'],\n",
    "                    'name': ['Scarlette Fisher', 'Carla Williamson', 'Dante Morse', 'Kaiser William', 'Madeeha Preston'],\n",
    "                    'marks': ['201', '200', '198', '219', '201']},\n",
    "                   index=[0, 1, 2, 3,4])\n",
    "result_data = pd.concat([df1, df2])\n",
    "print(result_data)"
   ]
  },
  {
   "cell_type": "code",
   "outputs": [
    {
     "name": "stdout",
     "output_type": "stream",
     "text": [
      "  student_id              name marks student_id              name marks\n",
      "0         S1  Danniella Fenton   200         S1  Scarlette Fisher   201\n",
      "1         S2      Ryder Storey   210         S2  Carla Williamson   200\n",
      "2         S3      Bryce Jensen   190         S3       Dante Morse   198\n",
      "3         S4         Ed Bernal   222         S4    Kaiser William   219\n",
      "4         S5       Kwame Morin   199         S5   Madeeha Preston   201\n"
     ]
    }
   ],
   "source": [
    "result_data = pd.concat([df1, df2], axis = 1)\n",
    "print(result_data)"
   ],
   "metadata": {
    "collapsed": false,
    "ExecuteTime": {
     "end_time": "2024-03-25T00:30:21.793865900Z",
     "start_time": "2024-03-25T00:30:21.766843800Z"
    }
   },
   "id": "df6d3232a81d8d8",
   "execution_count": 3
  },
  {
   "cell_type": "code",
   "outputs": [
    {
     "name": "stdout",
     "output_type": "stream",
     "text": [
      "  student_id              name  marks\n",
      "0         S1  Danniella Fenton    200\n",
      "1         S2      Ryder Storey    210\n",
      "2         S3      Bryce Jensen    190\n",
      "3         S4         Ed Bernal    222\n",
      "4         S5       Kwame Morin    199\n",
      "5         S6  Scarlette Fisher    205\n"
     ]
    }
   ],
   "source": [
    "x = pd.DataFrame({\n",
    "        'student_id': ['S1', 'S2', 'S3', 'S4', 'S5'],\n",
    "         'name': ['Danniella Fenton', 'Ryder Storey', 'Bryce Jensen', 'Ed Bernal', 'Kwame Morin'], \n",
    "        'marks': [200, 210, 190, 222, 199]})\n",
    "\n",
    "s6 = pd.Series(['S6', 'Scarlette Fisher', 205], index=['student_id', 'name', 'marks'])\n",
    "x.loc[len(x.index)] = (s6) \n",
    "print(x)"
   ],
   "metadata": {
    "collapsed": false,
    "ExecuteTime": {
     "end_time": "2024-03-25T01:02:11.677349900Z",
     "start_time": "2024-03-25T01:02:11.641519Z"
    }
   },
   "id": "ce50298bb8dfd363",
   "execution_count": 12
  },
  {
   "cell_type": "code",
   "outputs": [
    {
     "name": "stdout",
     "output_type": "stream",
     "text": [
      "Original DataFrames:\n",
      "  student_id              name  marks\n",
      "0         S1  Danniella Fenton    200\n",
      "1         S2      Ryder Storey    210\n",
      "2         S3      Bryce Jensen    190\n",
      "3         S4         Ed Bernal    222\n",
      "4         S5       Kwame Morin    199\n",
      "\n",
      "Dictionary:\n",
      "student_id                  S6\n",
      "name          Scarlette Fisher\n",
      "marks                      205\n",
      "dtype: object\n",
      "\n",
      "Combined Data:\n",
      "  student_id              name  marks\n",
      "0         S1  Danniella Fenton    200\n",
      "1         S2      Ryder Storey    210\n",
      "2         S3      Bryce Jensen    190\n",
      "3         S4         Ed Bernal    222\n",
      "4         S5       Kwame Morin    199\n",
      "5         S6  Scarlette Fisher    203\n",
      "6         S7      Bryce Jensen    207\n"
     ]
    }
   ],
   "source": [
    "import pandas as pd\n",
    "student_data1  = pd.DataFrame({\n",
    "        'student_id': ['S1', 'S2', 'S3', 'S4', 'S5'],\n",
    "         'name': ['Danniella Fenton', 'Ryder Storey', 'Bryce Jensen', 'Ed Bernal', 'Kwame Morin'], \n",
    "        'marks': [200, 210, 190, 222, 199]})\n",
    "\n",
    "s6 = pd.Series(['S6', 'Scarlette Fisher', 205], index=['student_id', 'name', 'marks'])\n",
    "\n",
    "\n",
    "dicts = [{'student_id': 'S6', 'name': 'Scarlette Fisher', 'marks': 203},\n",
    "         {'student_id': 'S7', 'name': 'Bryce Jensen', 'marks': 207}]\n",
    "\n",
    "print(\"Original DataFrames:\")\n",
    "print(student_data1)\n",
    "print(\"\\nDictionary:\")\n",
    "print(s6)\n",
    "dicts_df = pd.DataFrame(dicts)\n",
    "combined_data = pd.concat([student_data1, dicts_df], ignore_index=True, sort=False)\n",
    "print(\"\\nCombined Data:\")\n",
    "print(combined_data)"
   ],
   "metadata": {
    "collapsed": false,
    "ExecuteTime": {
     "end_time": "2024-03-25T02:53:49.812718200Z",
     "start_time": "2024-03-25T02:53:49.802730600Z"
    }
   },
   "id": "b8fe6b27ed69279c",
   "execution_count": 24
  },
  {
   "cell_type": "code",
   "outputs": [
    {
     "name": "stdout",
     "output_type": "stream",
     "text": [
      "original data:\n",
      "  student_id              name  marks\n",
      "0         S1  Danniella Fenton    200\n",
      "1         S2      Ryder Storey    210\n",
      "2         S3      Bryce Jensen    190\n",
      "3         S4         Ed Bernal    222\n",
      "4         S5       Kwame Morin    199\n",
      "  student_id              name  marks\n",
      "0         S4  Scarlette Fisher    201\n",
      "1         S5  Carla Williamson    200\n",
      "2         S6       Dante Morse    198\n",
      "3         S7    Kaiser William    219\n",
      "4         S8   Madeeha Preston    201\n",
      "   student_id  exam_id\n",
      "0          S1       23\n",
      "1          S2       45\n",
      "2          S3       12\n",
      "3          S4       67\n",
      "4          S5       21\n",
      "5          S7       55\n",
      "6          S8       33\n",
      "7          S9       14\n",
      "8         S10       56\n",
      "9         S11       83\n",
      "10        S12       88\n",
      "11        S13       12\n",
      "\n",
      " two first dataframes joined along rows:\n",
      "  student_id              name  marks\n",
      "0         S1  Danniella Fenton    200\n",
      "1         S2      Ryder Storey    210\n",
      "2         S3      Bryce Jensen    190\n",
      "3         S4         Ed Bernal    222\n",
      "4         S5       Kwame Morin    199\n",
      "0         S4  Scarlette Fisher    201\n",
      "1         S5  Carla Williamson    200\n",
      "2         S6       Dante Morse    198\n",
      "3         S7    Kaiser William    219\n",
      "4         S8   Madeeha Preston    201\n",
      "\n",
      "result and exam data along  the student_id:\n",
      "  student_id              name  marks  exam_id\n",
      "0         S1  Danniella Fenton    200       23\n",
      "1         S2      Ryder Storey    210       45\n",
      "2         S3      Bryce Jensen    190       12\n",
      "3         S4         Ed Bernal    222       67\n",
      "4         S5       Kwame Morin    199       21\n",
      "5         S4  Scarlette Fisher    201       67\n",
      "6         S5  Carla Williamson    200       21\n",
      "7         S7    Kaiser William    219       55\n",
      "8         S8   Madeeha Preston    201       33\n"
     ]
    },
    {
     "name": "stderr",
     "output_type": "stream",
     "text": [
      "C:\\Users\\USER\\AppData\\Local\\Temp\\ipykernel_16544\\3071532486.py:1: DeprecationWarning: \n",
      "Pyarrow will become a required dependency of pandas in the next major release of pandas (pandas 3.0),\n",
      "(to allow more performant data types, such as the Arrow string type, and better interoperability with other libraries)\n",
      "but was not found to be installed on your system.\n",
      "If this would cause problems for you,\n",
      "please provide us feedback at https://github.com/pandas-dev/pandas/issues/54466\n",
      "        \n",
      "  import pandas as pd\n"
     ]
    }
   ],
   "source": [
    "import pandas as pd\n",
    "df1 = pd.DataFrame({'student_id': ['S1', 'S2', 'S3', 'S4', 'S5'],\n",
    "                    'name': ['Danniella Fenton', 'Ryder Storey', 'Bryce Jensen', 'Ed Bernal', 'Kwame Morin'],\n",
    "                    'marks': [200, 210, 190, 222, 199]})\n",
    "df2 = pd.DataFrame({\n",
    "        'student_id': ['S4', 'S5', 'S6', 'S7', 'S8'],\n",
    "        'name': ['Scarlette Fisher', 'Carla Williamson', 'Dante Morse', 'Kaiser William', 'Madeeha Preston'], \n",
    "        'marks': [201, 200, 198, 219, 201]})\n",
    "x = pd.DataFrame({\n",
    "        'student_id': ['S1', 'S2', 'S3', 'S4', 'S5', 'S7', 'S8', 'S9', 'S10', 'S11', 'S12', 'S13'],\n",
    "        'exam_id': [23, 45, 12, 67, 21, 55, 33, 14, 56, 83, 88, 12]})\n",
    "print(\"original data:\")\n",
    "print(df1)\n",
    "print(df2)\n",
    "print(x)\n",
    "\n",
    "print(\"\\n two first dataframes joined along rows:\")\n",
    "result = pd.concat([df1, df2])\n",
    "print(result)\n",
    "\n",
    "print(\"\\nresult and exam data along  the student_id:\")\n",
    "final_merged_data = pd.merge(result, x, on='student_id')\n",
    "print(final_merged_data)\n"
   ],
   "metadata": {
    "collapsed": false,
    "ExecuteTime": {
     "end_time": "2024-04-02T23:02:27.939957700Z",
     "start_time": "2024-04-02T23:02:26.018407600Z"
    }
   },
   "id": "e1de666e5ca0f5fa",
   "execution_count": 2
  },
  {
   "cell_type": "code",
   "outputs": [
    {
     "name": "stdout",
     "output_type": "stream",
     "text": [
      "merged data\n",
      "  student_id       name_x  marks_x            name_y  marks_y\n",
      "0         S4    Ed Bernal      222  Scarlette Fisher      201\n",
      "1         S5  Kwame Morin      199  Carla Williamson      200\n"
     ]
    }
   ],
   "source": [
    "merge = pd.merge(df1, df2, on='student_id', how='inner')\n",
    "print(\"merged data\")\n",
    "print(merge)"
   ],
   "metadata": {
    "collapsed": false,
    "ExecuteTime": {
     "end_time": "2024-04-02T23:05:03.941552100Z",
     "start_time": "2024-04-02T23:05:03.897499400Z"
    }
   },
   "id": "c92d2948941d6f35",
   "execution_count": 3
  },
  {
   "cell_type": "code",
   "outputs": [
    {
     "name": "stdout",
     "output_type": "stream",
     "text": [
      "merged data\n",
      "  student_id            name_x  marks_x            name_y  marks_y\n",
      "0         S1  Danniella Fenton    200.0               NaN      NaN\n",
      "1         S2      Ryder Storey    210.0               NaN      NaN\n",
      "2         S3      Bryce Jensen    190.0               NaN      NaN\n",
      "3         S4         Ed Bernal    222.0  Scarlette Fisher    201.0\n",
      "4         S5       Kwame Morin    199.0  Carla Williamson    200.0\n",
      "5         S6               NaN      NaN       Dante Morse    198.0\n",
      "6         S7               NaN      NaN    Kaiser William    219.0\n",
      "7         S8               NaN      NaN   Madeeha Preston    201.0\n"
     ]
    }
   ],
   "source": [
    "merge = pd.merge(df1, df2, on='student_id', how='outer')\n",
    "print(\"merged data\")\n",
    "print(merge)"
   ],
   "metadata": {
    "collapsed": false,
    "ExecuteTime": {
     "end_time": "2024-04-02T23:14:02.858763700Z",
     "start_time": "2024-04-02T23:14:02.818904700Z"
    }
   },
   "id": "136686a3a51cb737",
   "execution_count": 4
  },
  {
   "cell_type": "code",
   "outputs": [
    {
     "name": "stdout",
     "output_type": "stream",
     "text": [
      "merged data (data 1 keys)\n",
      "  key1 key2   P   Q    R    S\n",
      "0   K0   K0  P0  Q0   R0   S0\n",
      "1   K0   K1  P1  Q1  NaN  NaN\n",
      "2   K1   K0  P2  Q2   R1   S1\n",
      "3   K1   K0  P2  Q2   R2   S2\n",
      "4   K2   K1  P3  Q3  NaN  NaN\n",
      "merged data (data 2 keys)\n",
      "  key1 key2   R   S    P    Q\n",
      "0   K0   K0  R0  S0   P0   Q0\n",
      "1   K1   K0  R1  S1   P2   Q2\n",
      "2   K1   K0  R2  S2   P2   Q2\n",
      "3   K2   K0  R3  S3  NaN  NaN\n"
     ]
    }
   ],
   "source": [
    "data1 = pd.DataFrame({'key1': ['K0', 'K0', 'K1', 'K2',], \n",
    "                      'key2': ['K0', 'K1', 'K0', 'K1'],\n",
    "                      'P': ['P0', 'P1', 'P2','P3'],\n",
    "                      'Q': ['Q0', 'Q1', 'Q2', 'Q3']})\n",
    "data2 = pd.DataFrame({'key1': ['K0', 'K1', 'K1', 'K2',], \n",
    "                      'key2': ['K0', 'K0', 'K0', 'K0'],\n",
    "                      'R': ['R0', 'R1', 'R2','R3'],\n",
    "                      'S': ['S0', 'S1', 'S2', 'S3']})\n",
    "merge = pd.merge(data1, data2, on=['key1','key2'], how='left')\n",
    "print(\"merged data (data 1 keys)\")\n",
    "print(merge)\n",
    "merge = pd.merge(data2, data1, on=['key1','key2'], how='left')\n",
    "print(\"merged data (data 2 keys)\")\n",
    "print(merge)\n",
    "\n"
   ],
   "metadata": {
    "collapsed": false,
    "ExecuteTime": {
     "end_time": "2024-04-02T23:31:36.403623Z",
     "start_time": "2024-04-02T23:31:36.389708300Z"
    }
   },
   "id": "1dc864878d346931",
   "execution_count": 6
  },
  {
   "cell_type": "code",
   "outputs": [
    {
     "name": "stdout",
     "output_type": "stream",
     "text": [
      "merged data (data 1 keys)\n",
      "  key1 key2    P    Q   R   S\n",
      "0   K0   K0   P0   Q0  R0  S0\n",
      "1   K1   K0   P2   Q2  R1  S1\n",
      "2   K1   K0   P2   Q2  R2  S2\n",
      "3   K2   K0  NaN  NaN  R3  S3\n",
      "merged data (data 2 keys)\n",
      "  key1 key2    R    S   P   Q\n",
      "0   K0   K0   R0   S0  P0  Q0\n",
      "1   K0   K1  NaN  NaN  P1  Q1\n",
      "2   K1   K0   R1   S1  P2  Q2\n",
      "3   K1   K0   R2   S2  P2  Q2\n",
      "4   K2   K1  NaN  NaN  P3  Q3\n"
     ]
    }
   ],
   "source": [
    "data1 = pd.DataFrame({'key1': ['K0', 'K0', 'K1', 'K2',], \n",
    "                      'key2': ['K0', 'K1', 'K0', 'K1'],\n",
    "                      'P': ['P0', 'P1', 'P2','P3'],\n",
    "                      'Q': ['Q0', 'Q1', 'Q2', 'Q3']})\n",
    "data2 = pd.DataFrame({'key1': ['K0', 'K1', 'K1', 'K2',], \n",
    "                      'key2': ['K0', 'K0', 'K0', 'K0'],\n",
    "                      'R': ['R0', 'R1', 'R2','R3'],\n",
    "                      'S': ['S0', 'S1', 'S2', 'S3']})\n",
    "merge = pd.merge(data1, data2, on=['key1','key2'], how='right')\n",
    "print(\"merged data (data 1 keys)\")\n",
    "print(merge)\n",
    "merge = pd.merge(data2, data1, on=['key1','key2'], how='right')\n",
    "print(\"merged data (data 2 keys)\")\n",
    "print(merge)"
   ],
   "metadata": {
    "collapsed": false,
    "ExecuteTime": {
     "end_time": "2024-04-02T23:33:01.576492300Z",
     "start_time": "2024-04-02T23:33:01.482216Z"
    }
   },
   "id": "918807c82f1e5fdf",
   "execution_count": 7
  },
  {
   "cell_type": "code",
   "outputs": [
    {
     "name": "stdout",
     "output_type": "stream",
     "text": [
      "merged data:\n",
      "  key1 key2   R   S   P   Q\n",
      "0   K0   K0  R0  S0  P0  Q0\n",
      "1   K1   K0  R1  S1  P2  Q2\n",
      "2   K1   K0  R2  S2  P2  Q2\n"
     ]
    }
   ],
   "source": [
    "import pandas as pd\n",
    "data1 = pd.DataFrame({'key1': ['K0', 'K0', 'K1', 'K2',], \n",
    "                      'key2': ['K0', 'K1', 'K0', 'K1'],\n",
    "                      'P': ['P0', 'P1', 'P2','P3'],\n",
    "                      'Q': ['Q0', 'Q1', 'Q2', 'Q3']})\n",
    "data2 = pd.DataFrame({'key1': ['K0', 'K1', 'K1', 'K2',], \n",
    "                      'key2': ['K0', 'K0', 'K0', 'K0'],\n",
    "                      'R': ['R0', 'R1', 'R2','R3'],\n",
    "                      'S': ['S0', 'S1', 'S2', 'S3']})\n",
    "merge = pd.merge(data2, data1, on=['key1','key2'])\n",
    "print(\"merged data:\")\n",
    "print(merge)"
   ],
   "metadata": {
    "collapsed": false,
    "ExecuteTime": {
     "end_time": "2024-04-07T19:56:35.901839900Z",
     "start_time": "2024-04-07T19:56:35.888082900Z"
    }
   },
   "id": "eca46b599df1bb45",
   "execution_count": 3
  },
  {
   "cell_type": "code",
   "outputs": [
    {
     "name": "stdout",
     "output_type": "stream",
     "text": [
      "   column1  column2  column3\n",
      "0        0        0        0\n",
      "1        1        4        2\n",
      "2        2        7        3\n",
      "3        3        9        5\n"
     ]
    }
   ],
   "source": [
    "import pandas as pd\n",
    "firstSeries = pd.Series([0, 1, 2, 3], name='column1')\n",
    "secondSeries = pd.Series([0, 4, 7, 9],)\n",
    "thirdSeries = pd.Series([0, 2, 3 ,5], name='column3')\n",
    "dataframe = pd.concat([firstSeries, secondSeries, thirdSeries], axis=1, keys=['column1', 'column2', 'column3'])\n",
    "print(dataframe)"
   ],
   "metadata": {
    "collapsed": false,
    "ExecuteTime": {
     "end_time": "2024-04-07T20:05:16.489112200Z",
     "start_time": "2024-04-07T20:05:16.452057600Z"
    }
   },
   "id": "e58d3d9d64932504",
   "execution_count": 5
  },
  {
   "cell_type": "code",
   "outputs": [
    {
     "name": "stdout",
     "output_type": "stream",
     "text": [
      "  key1 key2_x   P   Q key2_y   R   S\n",
      "0   K0     K0  P0  Q0     K0  R0  S0\n",
      "1   K0     K1  P1  Q1     K0  R0  S0\n",
      "2   K1     K0  P2  Q2     K0  R1  S1\n",
      "3   K1     K0  P2  Q2     K0  R2  S2\n",
      "4   K2     K1  P3  Q3     K0  R3  S3\n"
     ]
    }
   ],
   "source": [
    "merge = pd.merge(data1, data2, on='key1')\n",
    "print(merge)"
   ],
   "metadata": {
    "collapsed": false,
    "ExecuteTime": {
     "end_time": "2024-04-07T20:07:03.147729500Z",
     "start_time": "2024-04-07T20:07:03.117367800Z"
    }
   },
   "id": "dae1bd23135fe819",
   "execution_count": 6
  },
  {
   "cell_type": "code",
   "outputs": [
    {
     "name": "stdout",
     "output_type": "stream",
     "text": [
      "     A   B    C    D\n",
      "K0  A0  B0   C0   D0\n",
      "K1  A1  B1  NaN  NaN\n",
      "K2  A2  B2   C2   D2\n"
     ]
    }
   ],
   "source": [
    "data1 = pd.DataFrame({'A': ['A0', 'A1', 'A2'],\n",
    "                     'B': ['B0', 'B1', 'B2']},\n",
    "                     index=['K0', 'K1', 'K2'])\n",
    "data2 = pd.DataFrame({'C': ['C0', 'C2', 'C3'],\n",
    "                     'D': ['D0', 'D2', 'D3']},\n",
    "                     index=['K0', 'K2', 'K3'])\n",
    "join = data1.join(data2)\n",
    "print(join)\n"
   ],
   "metadata": {
    "collapsed": false,
    "ExecuteTime": {
     "end_time": "2024-04-07T20:13:59.214399300Z",
     "start_time": "2024-04-07T20:13:59.182696600Z"
    }
   },
   "id": "24c120d70d1d8f3f",
   "execution_count": 8
  },
  {
   "cell_type": "code",
   "outputs": [
    {
     "name": "stdout",
     "output_type": "stream",
     "text": [
      "  key1 key2    P    Q    R    S\n",
      "0   K0   K0   P0   Q0  NaN  NaN\n",
      "1   K0   K1   P1   Q1  NaN  NaN\n",
      "2   K1   K0   P2   Q2  NaN  NaN\n",
      "3   K2   K1   P3   Q3  NaN  NaN\n",
      "4   K0   K0  NaN  NaN   R0   S0\n",
      "5   K1   K0  NaN  NaN   R1   S1\n",
      "6   K1   K0  NaN  NaN   R2   S2\n",
      "7   K2   K0  NaN  NaN   R3   S3\n"
     ]
    }
   ],
   "source": [
    "data1 = pd.DataFrame({'key1': ['K0', 'K0', 'K1', 'K2',], \n",
    "                      'key2': ['K0', 'K1', 'K0', 'K1'],\n",
    "                      'P': ['P0', 'P1', 'P2','P3'],\n",
    "                      'Q': ['Q0', 'Q1', 'Q2', 'Q3']})\n",
    "data2 = pd.DataFrame({'key1': ['K0', 'K1', 'K1', 'K2',], \n",
    "                      'key2': ['K0', 'K0', 'K0', 'K0'],\n",
    "                      'R': ['R0', 'R1', 'R2','R3'],\n",
    "                      'S': ['S0', 'S1', 'S2', 'S3']})\n",
    "merge = pd.concat([data1,data2], axis=0, ignore_index=True)\n",
    "print(merge)"
   ],
   "metadata": {
    "collapsed": false,
    "ExecuteTime": {
     "end_time": "2024-04-07T20:16:12.550609900Z",
     "start_time": "2024-04-07T20:16:12.512608500Z"
    }
   },
   "id": "5042294ba0d6ca17",
   "execution_count": 9
  },
  {
   "cell_type": "code",
   "outputs": [
    {
     "name": "stdout",
     "output_type": "stream",
     "text": [
      "     A    B\n",
      "0  1.0  3.0\n",
      "1  0.0  4.0\n",
      "2  3.0  5.0\n"
     ]
    }
   ],
   "source": [
    "data1 = pd.DataFrame({'A': [None, 0, None], 'B': [3, 4, 5]})\n",
    "data2 = pd.DataFrame({'A': [1, 1, 3], 'B': [3, None, 3]})\n",
    "merge = data1.combine_first(data2)\n",
    "print(merge)"
   ],
   "metadata": {
    "collapsed": false,
    "ExecuteTime": {
     "end_time": "2024-04-07T20:20:08.539616700Z",
     "start_time": "2024-04-07T20:20:08.470870600Z"
    }
   },
   "id": "39274e8cc984eab1",
   "execution_count": 10
  },
  {
   "cell_type": "code",
   "outputs": [],
   "source": [],
   "metadata": {
    "collapsed": false
   },
   "id": "212b0a33be3b53d6"
  }
 ],
 "metadata": {
  "kernelspec": {
   "display_name": "Python 3",
   "language": "python",
   "name": "python3"
  },
  "language_info": {
   "codemirror_mode": {
    "name": "ipython",
    "version": 2
   },
   "file_extension": ".py",
   "mimetype": "text/x-python",
   "name": "python",
   "nbconvert_exporter": "python",
   "pygments_lexer": "ipython2",
   "version": "2.7.6"
  }
 },
 "nbformat": 4,
 "nbformat_minor": 5
}
